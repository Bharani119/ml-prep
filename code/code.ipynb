{
 "cells": [
  {
   "cell_type": "code",
   "execution_count": 3,
   "metadata": {},
   "outputs": [],
   "source": [
    "dataset ='''\n",
    "Loan nbr        Status        Eff date\n",
    "75150        APPR        5/1/2022\n",
    "75150        SIGN        6/1/2022\n",
    "75150        EFFT        7/15/2022\n",
    "75150        DISB        8/1/2022\n",
    "75150        FDSB        8/15/2022\n",
    "75150        RPAY        9/1/2024\n",
    "                 '''\n",
    "dataset1 ='''\n",
    "Loan nbr        Status\n",
    "75150        APPR\n",
    "75160        EFFT\n",
    "75170        FRPD\n",
    "'''\n",
    " \n",
    "dataset2 ='''\n",
    "Loan_nbr        Product       \n",
    "75150        FSL\n",
    "75180        IFL\n",
    "75200        IDA\n",
    "'''\n",
    " \n",
    "dataset3 ='''\n",
    "Loan_nbr        Amount       \n",
    "75150        1000900.80\n",
    "75180        9000070.90\n",
    "75200        7000050.10\n",
    "'''"
   ]
  },
  {
   "cell_type": "code",
   "execution_count": 4,
   "metadata": {},
   "outputs": [
    {
     "data": {
      "text/plain": [
       "'\\nLoan nbr        Status        Eff date\\n75150        APPR        5/1/2022\\n75150        SIGN        6/1/2022\\n75150        EFFT        7/15/2022\\n75150        DISB        8/1/2022\\n75150        FDSB        8/15/2022\\n75150        RPAY        9/1/2024\\n                 '"
      ]
     },
     "execution_count": 4,
     "metadata": {},
     "output_type": "execute_result"
    }
   ],
   "source": [
    "dataset"
   ]
  },
  {
   "cell_type": "code",
   "execution_count": 1,
   "metadata": {},
   "outputs": [],
   "source": [
    "import pandas as pd"
   ]
  },
  {
   "cell_type": "code",
   "execution_count": null,
   "metadata": {},
   "outputs": [],
   "source": [
    "pd.read"
   ]
  },
  {
   "cell_type": "code",
   "execution_count": 6,
   "metadata": {},
   "outputs": [],
   "source": [
    "# pd.read_table(dataset)"
   ]
  },
  {
   "cell_type": "code",
   "execution_count": 2,
   "metadata": {},
   "outputs": [],
   "source": [
    "df1 = pd.read_csv(\"ida_statement_of_credits_grants_and_guarantees_latest_available_snapshot_12-17-2024.csv\")\n",
    "# df2 = pd.read_csv(\"\")"
   ]
  },
  {
   "cell_type": "code",
   "execution_count": 11,
   "metadata": {},
   "outputs": [],
   "source": [
    "def get_column(x):\n",
    "    print(df1.groupby(x).value_counts())"
   ]
  },
  {
   "cell_type": "code",
   "execution_count": 10,
   "metadata": {},
   "outputs": [
    {
     "data": {
      "text/plain": [
       "Region                      End of Period  Credit Number  Country / Economy Code  Country / Economy  Borrower                                  Credit Status  Service Charge Rate  Currency of Commitment  Project ID  Project Name                       Original Principal Amount (US$)  Cancelled Amount (US$)  Undisbursed Amount (US$)  Disbursed Amount (US$)  Repaid to IDA (US$)  Due to IDA (US$)  Exchange Adjustment (US$)  Borrowers Obligation (US$)  Sold 3rd Party (US$)  Repaid 3rd Party (US$)  Due 3rd Party (US$)  Credits Held (US$)  First Repayment Date  Last Repayment Date  Agreement Signing Date  Board Approval Date  Effective Date (Most Recent)  Closed Date (Most Recent)  Last Disbursement Date\n",
       "EAST ASIA AND PACIFIC       10/31/2024     IDA08350       MM                      Myanmar            Ministry of Planning, Finance & Industry  Repaying       0.75                 USD                     P003348     LOWER BURMA PADDY DE               34500000.00                      730278.47               0.0                       33769721.53             29719128.00          4050593.53        0                          4050593.53                  0.0                   0.0                     0                    4050593.53          12/15/1988            06/15/2028           07/28/1978              07/06/1978           10/13/1978                    04/30/1990                 08/29/1990                1\n",
       "                                           IDA09230       PH                      Philippines        Department of Finance                     Repaying       0.75                 USD                     P004467     POPULAT. II                        40000000.00                      7776798.09              0.0                       32223201.91             27389720.00          4833481.91        0                          4833481.91                  0.0                   0.0                     0                    4833481.91          12/01/1989            06/01/2029           06/27/1979              06/05/1979           10/15/1979                    06/30/1988                 04/13/1989                1\n",
       "                                           IDA09290       TH                      Thailand           MINISTRY OF FINANCE                       Fully Repaid   0.75                 USD                     P004698     NO. AG DEVL                        25000000.00                      3083425.98              0.0                       21916574.02             21916574.02          0.00              0                          0.00                        0.0                   0.0                     0                    0.00                09/01/1989            03/01/2029           06/28/1979              06/12/1979           10/12/1979                    12/31/1988                 06/15/1989                1\n",
       "                                           IDA09460       ID                      Indonesia          Ministry of Finance                       Repaying       0.75                 USD                     P003788     YOGYAKARTA RURAL DEV               12000000.00                      852084.08               0.0                       11147915.92             10980764.92          167151.00         0                          167151.00                   0.0                   0.0                     0                    167151.00           10/01/1989            04/01/2029           08/13/1979              07/12/1979           12/05/1979                    03/31/1989                 04/11/1991                1\n",
       "                                           IDA09510       WS                      Samoa              TREASURY DEPARTMENT                       Repaying       0.75                 USD                     P004852     AGRIC DEVT                         8000000.00                       1476851.08              0.0                       6523148.92              5544650.00           978498.92         0                          978498.92                   0.0                   0.0                     0                    978498.92           01/15/1990            07/15/2029           11/27/1979              09/18/1979           03/03/1980                    06/30/1988                 03/03/1989                1\n",
       "                                                                                                                                                                                                                                                                                                                                                                                                                                                                                                                                                                                                                                                                                                                                    ..\n",
       "WESTERN AND CENTRAL AFRICA  10/31/2024     IDAN0240       SN                      Senegal            Ministere des Finances et du Budget       Fully Repaid   0.75                 XDR                     P044383     URBAN TRANSPORT REFORM TA PROJECT  6600000.00                       728635.64               0.0                       5800023.99              6407662.79           0.00              0                          0.00                        0.0                   0.0                     0                    0.00                06/15/2007            12/15/2036           06/26/1997              06/13/1997           09/15/1997                    06/30/2001                 12/05/2001                1\n",
       "                                           IDAN0290       BF                      Burkina Faso       Min of Economy Finance and Development    Repaying       0.75                 XDR                     P000283     MINING CAPACITY BUIL               5236628.38                       802657.04               0.0                       4433971.34              2101243.71           2123419.95        0                          2123419.95                  0.0                   0.0                     0                    2123419.95          12/15/2007            06/15/2037           07/28/1997              06/30/1997           04/28/1998                    12/31/2004                 04/12/2005                1\n",
       "                                           IDAN0300       TD                      Chad               Ministere des Finances et du Budget       Fully Repaid   0.75                 XDR                     P044975     SAC II                             25000000.00                      0.00                    0.0                       24346440.00             25632407.01          0.00              0                          0.00                        0.0                   0.0                     0                    0.00                07/15/2007            01/15/2037           07/03/1997              06/30/1997           08/14/1997                    12/31/1998                 08/15/1997                1\n",
       "                                           IDAN0360       CI                      Cote d'Ivoire      Ministry of Finance and Budget            Fully Repaid   0.75                 XDR                     P044912     URBAN LAND MGMT                    10000000.00                      7775208.08              0.0                       2146863.35              2470302.67           0.00              0                          0.00                        0.0                   0.0                     0                    0.00                01/15/2008            07/15/2037           12/22/1997              11/05/1997           04/06/1998                    06/30/2002                 06/20/2002                1\n",
       "                                           IDAN0370       ML                      Mali               MINISTERE DE L'ECONOMIE ET FINANCES MALI  Fully Repaid   0.75                 XDR                     P035617     Mali:GRASSROOTS HUN/POVT           21500000.00                      4081.54                 0.0                       21010381.74             23368085.98          0.00              0                          0.00                        0.0                   0.0                     0                    0.00                06/15/2008            12/15/2037           04/09/1998              04/07/1998           10/01/1998                    01/31/2004                 01/09/2004                1\n",
       "Name: count, Length: 6517, dtype: int64"
      ]
     },
     "execution_count": 10,
     "metadata": {},
     "output_type": "execute_result"
    }
   ],
   "source": [
    "df1.groupby(\"Region\").value_counts()"
   ]
  },
  {
   "cell_type": "code",
   "execution_count": 12,
   "metadata": {},
   "outputs": [
    {
     "name": "stdout",
     "output_type": "stream",
     "text": [
      "Country / Economy Code  End of Period  Credit Number  Region                       Country / Economy            Borrower                                  Credit Status  Service Charge Rate  Currency of Commitment  Project ID  Project Name                              Original Principal Amount (US$)  Cancelled Amount (US$)  Undisbursed Amount (US$)  Disbursed Amount (US$)  Repaid to IDA (US$)  Due to IDA (US$)  Exchange Adjustment (US$)  Borrowers Obligation (US$)  Sold 3rd Party (US$)  Repaid 3rd Party (US$)  Due 3rd Party (US$)  Credits Held (US$)  First Repayment Date  Last Repayment Date  Agreement Signing Date  Board Approval Date  Effective Date (Most Recent)  Closed Date (Most Recent)  Last Disbursement Date\n",
      "3E                      10/31/2024     IDA34880       EASTERN AND SOUTHERN AFRICA  Eastern and Southern Africa  AFRICAN TRADE INSURANCE AGENCY            Repaying       0.75                 XDR                     P063683     Regional Trade Facilitation Project I     5000000.0                        0.00                    0.0                       5310421.92              2329941.81           2986180.27        0                          2986180.27                  0.0                   0.0                     0                    2.986180e+06        09/15/2011            03/15/2036           06/08/2001              04/03/2001           08/23/2001                    06/30/2011                 07/07/2006                1\n",
      "                                       IDA34881       EASTERN AND SOUTHERN AFRICA  Eastern and Southern Africa  AFRICAN TRADE INSURANCE AGENCY            Repaying       0.75                 XDR                     P063683     Regional Trade Facilitation Project I     5000000.0                        0.00                    0.0                       5149807.89              1083084.26           3350713.99        0                          3350713.99                  0.0                   0.0                     0                    3.350714e+06        09/15/2015            03/15/2040           07/19/2005              05/31/2005           08/08/2005                    06/30/2011                 01/05/2011                1\n",
      "                                       IDA67110       EASTERN AND SOUTHERN AFRICA  Eastern and Southern Africa  Eastern & Southern AfricanTrd & Dev Bank  Disbursing     1.30                 USD                     P171967     Regional Infrastructure Finance - Africa  15000000.0                       0.00                    9734154.0                 5265846.00              0.00                 5265846.00        0                          5265846.00                  0.0                   0.0                     0                    1.500000e+07        07/15/2026            01/15/2058           08/04/2020              06/30/2020           10/05/2020                    09/26/2026                 11/07/2023                1\n",
      "                                       IDA67120       EASTERN AND SOUTHERN AFRICA  Eastern and Southern Africa  Eastern & Southern AfricanTrd & Dev Bank  Disbursing     0.00                 USD                     P171967     Regional Infrastructure Finance - Africa  400000000.0                      0.00                    324440000.0               75560000.00             0.00                 75560000.00       0                          75560000.00                 0.0                   0.0                     0                    4.000000e+08        07/15/2025            01/15/2039           08/04/2020              06/30/2020           10/05/2020                    09/26/2026                 04/06/2023                1\n",
      "3T                      10/31/2024     IDA37040       WESTERN AND CENTRAL AFRICA   Central Africa               BANQUE DES ETATS DE L'AFRIQUE CENTRALE    Repaying       0.75                 XDR                     P072881     3A-BEAC Reg Payment System (FY03)         14500000.0                       0.00                    0.0                       17644298.33             4585931.52           11217651.12       0                          11217651.12                 0.0                   0.0                     0                    1.121765e+07        01/15/2013            07/15/2042           08/16/2002              07/30/2002           04/08/2003                    06/30/2009                 09/03/2009                1\n",
      "                                                                                                                                                                                                                                                                                                                                                                                                                                                                                                                                                                                                                                                                                                                                                      ..\n",
      "ZW                      10/31/2024     IDA28510       EASTERN AND SOUTHERN AFRICA  Zimbabwe                     MINISTRY OF FINANCE & ECO DEVELOPMENT     Repaying       0.75                 XDR                     P035628     ENTERPRISE DEVELOPMENT                    70000000.0                       36740133.51             0.0                       30576979.75             13964.81             30040618.88       0                          30040618.88                 0.0                   0.0                     0                    3.004062e+07        10/01/2006            04/01/2036           09/30/1996              04/25/1996           04/07/1997                    12/31/2002                 09/18/2001                1\n",
      "                                       IDA30720       EASTERN AND SOUTHERN AFRICA  Zimbabwe                     MINISTRY OF FINANCE & ECO DEVELOPMENT     Repaying       0.75                 XDR                     P045031     Community Action                          60000000.0                       56399833.99             0.0                       3697679.16              231.12               3595347.75        0                          3595347.75                  0.0                   0.0                     0                    3.595348e+06        10/15/2008            04/15/2033           06/25/1998              05/19/1998           10/23/1998                    12/31/2003                 10/29/2001                1\n",
      "                                       IDA30800       EASTERN AND SOUTHERN AFRICA  Zimbabwe                     MINISTRY OF FINANCE & ECO DEVELOPMENT     Repaying       0.75                 XDR                     P003331     AGR SRVC & MGMT                           8800000.0                        6798787.17              0.0                       1991044.79              52.62                1998605.26        0                          1998605.26                  0.0                   0.0                     0                    1.998605e+06        09/01/2008            03/01/2033           06/25/1998              05/29/1998           12/28/1998                    07/31/2001                 07/24/2009                1\n",
      "                                       IDA30830       EASTERN AND SOUTHERN AFRICA  Zimbabwe                     MINISTRY OF FINANCE & ECO DEVELOPMENT     Repaying       0.75                 XDR                     P003318     PARK REHAB & CONSERV                      62500000.0                       60415948.31             0.0                       2111145.84              150.12               2055716.61        0                          2055716.61                  0.0                   0.0                     0                    2.055717e+06        11/01/2008            05/01/2033           06/25/1998              06/02/1998           03/15/1999                    09/30/2005                 08/21/2001                1\n",
      "                                       IDAN0190       EASTERN AND SOUTHERN AFRICA  Zimbabwe                     MINISTRY OF FINANCE & ECO DEVELOPMENT     Repaying       0.75                 XDR                     P045029     PILOT RDC                                 12250000.0                       8135640.84              0.0                       4119307.00              262.91               3980263.01        0                          3980263.01                  0.0                   0.0                     0                    3.980263e+06        08/15/2007            02/15/2037           08/14/1997              05/29/1997           02/04/1998                    06/30/2000                 10/29/2001                1\n",
      "Name: count, Length: 6517, dtype: int64\n"
     ]
    }
   ],
   "source": [
    "get_column(\"Country / Economy Code\")"
   ]
  },
  {
   "cell_type": "code",
   "execution_count": 14,
   "metadata": {},
   "outputs": [
    {
     "name": "stdout",
     "output_type": "stream",
     "text": [
      "<class 'pandas.core.frame.DataFrame'>\n",
      "RangeIndex: 10627 entries, 0 to 10626\n",
      "Data columns (total 30 columns):\n",
      " #   Column                           Non-Null Count  Dtype  \n",
      "---  ------                           --------------  -----  \n",
      " 0   End of Period                    10627 non-null  object \n",
      " 1   Credit Number                    10627 non-null  object \n",
      " 2   Region                           10627 non-null  object \n",
      " 3   Country / Economy Code           10627 non-null  object \n",
      " 4   Country / Economy                10627 non-null  object \n",
      " 5   Borrower                         10627 non-null  object \n",
      " 6   Credit Status                    10627 non-null  object \n",
      " 7   Service Charge Rate              8213 non-null   float64\n",
      " 8   Currency of Commitment           10627 non-null  object \n",
      " 9   Project ID                       10627 non-null  object \n",
      " 10  Project Name                     10624 non-null  object \n",
      " 11  Original Principal Amount (US$)  10627 non-null  float64\n",
      " 12  Cancelled Amount (US$)           10627 non-null  float64\n",
      " 13  Undisbursed Amount (US$)         10627 non-null  float64\n",
      " 14  Disbursed Amount (US$)           10627 non-null  float64\n",
      " 15  Repaid to IDA (US$)              10627 non-null  float64\n",
      " 16  Due to IDA (US$)                 10627 non-null  float64\n",
      " 17  Exchange Adjustment (US$)        10627 non-null  int64  \n",
      " 18  Borrowers Obligation (US$)       10627 non-null  float64\n",
      " 19  Sold 3rd Party (US$)             10627 non-null  float64\n",
      " 20  Repaid 3rd Party (US$)           10627 non-null  float64\n",
      " 21  Due 3rd Party (US$)              10627 non-null  int64  \n",
      " 22  Credits Held (US$)               10627 non-null  float64\n",
      " 23  First Repayment Date             8282 non-null   object \n",
      " 24  Last Repayment Date              8282 non-null   object \n",
      " 25  Agreement Signing Date           10525 non-null  object \n",
      " 26  Board Approval Date              10627 non-null  object \n",
      " 27  Effective Date (Most Recent)     10557 non-null  object \n",
      " 28  Closed Date (Most Recent)        10625 non-null  object \n",
      " 29  Last Disbursement Date           8703 non-null   object \n",
      "dtypes: float64(11), int64(2), object(17)\n",
      "memory usage: 2.4+ MB\n"
     ]
    }
   ],
   "source": [
    "df1.info()"
   ]
  },
  {
   "cell_type": "code",
   "execution_count": 19,
   "metadata": {},
   "outputs": [],
   "source": [
    "df1[\"Date\"] = pd.to_datetime(df1[\"End of Period\"])"
   ]
  },
  {
   "cell_type": "code",
   "execution_count": 20,
   "metadata": {},
   "outputs": [
    {
     "data": {
      "text/plain": [
       "0       2024-10-31\n",
       "1       2024-10-31\n",
       "2       2024-10-31\n",
       "3       2024-10-31\n",
       "4       2024-10-31\n",
       "           ...    \n",
       "10622   2024-10-31\n",
       "10623   2024-10-31\n",
       "10624   2024-10-31\n",
       "10625   2024-10-31\n",
       "10626   2024-10-31\n",
       "Name: Date, Length: 10627, dtype: datetime64[ns]"
      ]
     },
     "execution_count": 20,
     "metadata": {},
     "output_type": "execute_result"
    }
   ],
   "source": [
    "df1[\"Date\"]"
   ]
  },
  {
   "cell_type": "code",
   "execution_count": 4,
   "metadata": {},
   "outputs": [],
   "source": [
    "df2 = df1.copy()"
   ]
  },
  {
   "cell_type": "code",
   "execution_count": 7,
   "metadata": {},
   "outputs": [
    {
     "ename": "ValueError",
     "evalue": "columns overlap but no suffix specified: Index(['End of Period', 'Credit Number', 'Region', 'Country / Economy Code',\n       'Country / Economy', 'Borrower', 'Credit Status', 'Service Charge Rate',\n       'Currency of Commitment', 'Project ID', 'Project Name',\n       'Original Principal Amount (US$)', 'Cancelled Amount (US$)',\n       'Undisbursed Amount (US$)', 'Disbursed Amount (US$)',\n       'Repaid to IDA (US$)', 'Due to IDA (US$)', 'Exchange Adjustment (US$)',\n       'Borrowers Obligation (US$)', 'Sold 3rd Party (US$)',\n       'Repaid 3rd Party (US$)', 'Due 3rd Party (US$)', 'Credits Held (US$)',\n       'First Repayment Date', 'Last Repayment Date', 'Agreement Signing Date',\n       'Board Approval Date', 'Effective Date (Most Recent)',\n       'Closed Date (Most Recent)', 'Last Disbursement Date'],\n      dtype='object')",
     "output_type": "error",
     "traceback": [
      "\u001b[1;31m---------------------------------------------------------------------------\u001b[0m",
      "\u001b[1;31mValueError\u001b[0m                                Traceback (most recent call last)",
      "Cell \u001b[1;32mIn[7], line 1\u001b[0m\n\u001b[1;32m----> 1\u001b[0m \u001b[43mdf1\u001b[49m\u001b[38;5;241;43m.\u001b[39;49m\u001b[43mjoin\u001b[49m\u001b[43m(\u001b[49m\u001b[43mdf2\u001b[49m\u001b[43m,\u001b[49m\u001b[43mhow\u001b[49m\u001b[38;5;241;43m=\u001b[39;49m\u001b[38;5;124;43m\"\u001b[39;49m\u001b[38;5;124;43mouter\u001b[39;49m\u001b[38;5;124;43m\"\u001b[39;49m\u001b[43m)\u001b[49m\n",
      "File \u001b[1;32mc:\\Users\\bhara\\Documents\\code_space\\.venv\\Lib\\site-packages\\pandas\\core\\frame.py:10757\u001b[0m, in \u001b[0;36mDataFrame.join\u001b[1;34m(self, other, on, how, lsuffix, rsuffix, sort, validate)\u001b[0m\n\u001b[0;32m  10747\u001b[0m     \u001b[38;5;28;01mif\u001b[39;00m how \u001b[38;5;241m==\u001b[39m \u001b[38;5;124m\"\u001b[39m\u001b[38;5;124mcross\u001b[39m\u001b[38;5;124m\"\u001b[39m:\n\u001b[0;32m  10748\u001b[0m         \u001b[38;5;28;01mreturn\u001b[39;00m merge(\n\u001b[0;32m  10749\u001b[0m             \u001b[38;5;28mself\u001b[39m,\n\u001b[0;32m  10750\u001b[0m             other,\n\u001b[1;32m   (...)\u001b[0m\n\u001b[0;32m  10755\u001b[0m             validate\u001b[38;5;241m=\u001b[39mvalidate,\n\u001b[0;32m  10756\u001b[0m         )\n\u001b[1;32m> 10757\u001b[0m     \u001b[38;5;28;01mreturn\u001b[39;00m \u001b[43mmerge\u001b[49m\u001b[43m(\u001b[49m\n\u001b[0;32m  10758\u001b[0m \u001b[43m        \u001b[49m\u001b[38;5;28;43mself\u001b[39;49m\u001b[43m,\u001b[49m\n\u001b[0;32m  10759\u001b[0m \u001b[43m        \u001b[49m\u001b[43mother\u001b[49m\u001b[43m,\u001b[49m\n\u001b[0;32m  10760\u001b[0m \u001b[43m        \u001b[49m\u001b[43mleft_on\u001b[49m\u001b[38;5;241;43m=\u001b[39;49m\u001b[43mon\u001b[49m\u001b[43m,\u001b[49m\n\u001b[0;32m  10761\u001b[0m \u001b[43m        \u001b[49m\u001b[43mhow\u001b[49m\u001b[38;5;241;43m=\u001b[39;49m\u001b[43mhow\u001b[49m\u001b[43m,\u001b[49m\n\u001b[0;32m  10762\u001b[0m \u001b[43m        \u001b[49m\u001b[43mleft_index\u001b[49m\u001b[38;5;241;43m=\u001b[39;49m\u001b[43mon\u001b[49m\u001b[43m \u001b[49m\u001b[38;5;129;43;01mis\u001b[39;49;00m\u001b[43m \u001b[49m\u001b[38;5;28;43;01mNone\u001b[39;49;00m\u001b[43m,\u001b[49m\n\u001b[0;32m  10763\u001b[0m \u001b[43m        \u001b[49m\u001b[43mright_index\u001b[49m\u001b[38;5;241;43m=\u001b[39;49m\u001b[38;5;28;43;01mTrue\u001b[39;49;00m\u001b[43m,\u001b[49m\n\u001b[0;32m  10764\u001b[0m \u001b[43m        \u001b[49m\u001b[43msuffixes\u001b[49m\u001b[38;5;241;43m=\u001b[39;49m\u001b[43m(\u001b[49m\u001b[43mlsuffix\u001b[49m\u001b[43m,\u001b[49m\u001b[43m \u001b[49m\u001b[43mrsuffix\u001b[49m\u001b[43m)\u001b[49m\u001b[43m,\u001b[49m\n\u001b[0;32m  10765\u001b[0m \u001b[43m        \u001b[49m\u001b[43msort\u001b[49m\u001b[38;5;241;43m=\u001b[39;49m\u001b[43msort\u001b[49m\u001b[43m,\u001b[49m\n\u001b[0;32m  10766\u001b[0m \u001b[43m        \u001b[49m\u001b[43mvalidate\u001b[49m\u001b[38;5;241;43m=\u001b[39;49m\u001b[43mvalidate\u001b[49m\u001b[43m,\u001b[49m\n\u001b[0;32m  10767\u001b[0m \u001b[43m    \u001b[49m\u001b[43m)\u001b[49m\n\u001b[0;32m  10768\u001b[0m \u001b[38;5;28;01melse\u001b[39;00m:\n\u001b[0;32m  10769\u001b[0m     \u001b[38;5;28;01mif\u001b[39;00m on \u001b[38;5;129;01mis\u001b[39;00m \u001b[38;5;129;01mnot\u001b[39;00m \u001b[38;5;28;01mNone\u001b[39;00m:\n",
      "File \u001b[1;32mc:\\Users\\bhara\\Documents\\code_space\\.venv\\Lib\\site-packages\\pandas\\core\\reshape\\merge.py:184\u001b[0m, in \u001b[0;36mmerge\u001b[1;34m(left, right, how, on, left_on, right_on, left_index, right_index, sort, suffixes, copy, indicator, validate)\u001b[0m\n\u001b[0;32m    169\u001b[0m \u001b[38;5;28;01melse\u001b[39;00m:\n\u001b[0;32m    170\u001b[0m     op \u001b[38;5;241m=\u001b[39m _MergeOperation(\n\u001b[0;32m    171\u001b[0m         left_df,\n\u001b[0;32m    172\u001b[0m         right_df,\n\u001b[1;32m   (...)\u001b[0m\n\u001b[0;32m    182\u001b[0m         validate\u001b[38;5;241m=\u001b[39mvalidate,\n\u001b[0;32m    183\u001b[0m     )\n\u001b[1;32m--> 184\u001b[0m     \u001b[38;5;28;01mreturn\u001b[39;00m \u001b[43mop\u001b[49m\u001b[38;5;241;43m.\u001b[39;49m\u001b[43mget_result\u001b[49m\u001b[43m(\u001b[49m\u001b[43mcopy\u001b[49m\u001b[38;5;241;43m=\u001b[39;49m\u001b[43mcopy\u001b[49m\u001b[43m)\u001b[49m\n",
      "File \u001b[1;32mc:\\Users\\bhara\\Documents\\code_space\\.venv\\Lib\\site-packages\\pandas\\core\\reshape\\merge.py:888\u001b[0m, in \u001b[0;36m_MergeOperation.get_result\u001b[1;34m(self, copy)\u001b[0m\n\u001b[0;32m    884\u001b[0m     \u001b[38;5;28mself\u001b[39m\u001b[38;5;241m.\u001b[39mleft, \u001b[38;5;28mself\u001b[39m\u001b[38;5;241m.\u001b[39mright \u001b[38;5;241m=\u001b[39m \u001b[38;5;28mself\u001b[39m\u001b[38;5;241m.\u001b[39m_indicator_pre_merge(\u001b[38;5;28mself\u001b[39m\u001b[38;5;241m.\u001b[39mleft, \u001b[38;5;28mself\u001b[39m\u001b[38;5;241m.\u001b[39mright)\n\u001b[0;32m    886\u001b[0m join_index, left_indexer, right_indexer \u001b[38;5;241m=\u001b[39m \u001b[38;5;28mself\u001b[39m\u001b[38;5;241m.\u001b[39m_get_join_info()\n\u001b[1;32m--> 888\u001b[0m result \u001b[38;5;241m=\u001b[39m \u001b[38;5;28;43mself\u001b[39;49m\u001b[38;5;241;43m.\u001b[39;49m\u001b[43m_reindex_and_concat\u001b[49m\u001b[43m(\u001b[49m\n\u001b[0;32m    889\u001b[0m \u001b[43m    \u001b[49m\u001b[43mjoin_index\u001b[49m\u001b[43m,\u001b[49m\u001b[43m \u001b[49m\u001b[43mleft_indexer\u001b[49m\u001b[43m,\u001b[49m\u001b[43m \u001b[49m\u001b[43mright_indexer\u001b[49m\u001b[43m,\u001b[49m\u001b[43m \u001b[49m\u001b[43mcopy\u001b[49m\u001b[38;5;241;43m=\u001b[39;49m\u001b[43mcopy\u001b[49m\n\u001b[0;32m    890\u001b[0m \u001b[43m\u001b[49m\u001b[43m)\u001b[49m\n\u001b[0;32m    891\u001b[0m result \u001b[38;5;241m=\u001b[39m result\u001b[38;5;241m.\u001b[39m__finalize__(\u001b[38;5;28mself\u001b[39m, method\u001b[38;5;241m=\u001b[39m\u001b[38;5;28mself\u001b[39m\u001b[38;5;241m.\u001b[39m_merge_type)\n\u001b[0;32m    893\u001b[0m \u001b[38;5;28;01mif\u001b[39;00m \u001b[38;5;28mself\u001b[39m\u001b[38;5;241m.\u001b[39mindicator:\n",
      "File \u001b[1;32mc:\\Users\\bhara\\Documents\\code_space\\.venv\\Lib\\site-packages\\pandas\\core\\reshape\\merge.py:840\u001b[0m, in \u001b[0;36m_MergeOperation._reindex_and_concat\u001b[1;34m(self, join_index, left_indexer, right_indexer, copy)\u001b[0m\n\u001b[0;32m    837\u001b[0m left \u001b[38;5;241m=\u001b[39m \u001b[38;5;28mself\u001b[39m\u001b[38;5;241m.\u001b[39mleft[:]\n\u001b[0;32m    838\u001b[0m right \u001b[38;5;241m=\u001b[39m \u001b[38;5;28mself\u001b[39m\u001b[38;5;241m.\u001b[39mright[:]\n\u001b[1;32m--> 840\u001b[0m llabels, rlabels \u001b[38;5;241m=\u001b[39m \u001b[43m_items_overlap_with_suffix\u001b[49m\u001b[43m(\u001b[49m\n\u001b[0;32m    841\u001b[0m \u001b[43m    \u001b[49m\u001b[38;5;28;43mself\u001b[39;49m\u001b[38;5;241;43m.\u001b[39;49m\u001b[43mleft\u001b[49m\u001b[38;5;241;43m.\u001b[39;49m\u001b[43m_info_axis\u001b[49m\u001b[43m,\u001b[49m\u001b[43m \u001b[49m\u001b[38;5;28;43mself\u001b[39;49m\u001b[38;5;241;43m.\u001b[39;49m\u001b[43mright\u001b[49m\u001b[38;5;241;43m.\u001b[39;49m\u001b[43m_info_axis\u001b[49m\u001b[43m,\u001b[49m\u001b[43m \u001b[49m\u001b[38;5;28;43mself\u001b[39;49m\u001b[38;5;241;43m.\u001b[39;49m\u001b[43msuffixes\u001b[49m\n\u001b[0;32m    842\u001b[0m \u001b[43m\u001b[49m\u001b[43m)\u001b[49m\n\u001b[0;32m    844\u001b[0m \u001b[38;5;28;01mif\u001b[39;00m left_indexer \u001b[38;5;129;01mis\u001b[39;00m \u001b[38;5;129;01mnot\u001b[39;00m \u001b[38;5;28;01mNone\u001b[39;00m \u001b[38;5;129;01mand\u001b[39;00m \u001b[38;5;129;01mnot\u001b[39;00m is_range_indexer(left_indexer, \u001b[38;5;28mlen\u001b[39m(left)):\n\u001b[0;32m    845\u001b[0m     \u001b[38;5;66;03m# Pinning the index here (and in the right code just below) is not\u001b[39;00m\n\u001b[0;32m    846\u001b[0m     \u001b[38;5;66;03m#  necessary, but makes the `.take` more performant if we have e.g.\u001b[39;00m\n\u001b[0;32m    847\u001b[0m     \u001b[38;5;66;03m#  a MultiIndex for left.index.\u001b[39;00m\n\u001b[0;32m    848\u001b[0m     lmgr \u001b[38;5;241m=\u001b[39m left\u001b[38;5;241m.\u001b[39m_mgr\u001b[38;5;241m.\u001b[39mreindex_indexer(\n\u001b[0;32m    849\u001b[0m         join_index,\n\u001b[0;32m    850\u001b[0m         left_indexer,\n\u001b[1;32m   (...)\u001b[0m\n\u001b[0;32m    855\u001b[0m         use_na_proxy\u001b[38;5;241m=\u001b[39m\u001b[38;5;28;01mTrue\u001b[39;00m,\n\u001b[0;32m    856\u001b[0m     )\n",
      "File \u001b[1;32mc:\\Users\\bhara\\Documents\\code_space\\.venv\\Lib\\site-packages\\pandas\\core\\reshape\\merge.py:2721\u001b[0m, in \u001b[0;36m_items_overlap_with_suffix\u001b[1;34m(left, right, suffixes)\u001b[0m\n\u001b[0;32m   2718\u001b[0m lsuffix, rsuffix \u001b[38;5;241m=\u001b[39m suffixes\n\u001b[0;32m   2720\u001b[0m \u001b[38;5;28;01mif\u001b[39;00m \u001b[38;5;129;01mnot\u001b[39;00m lsuffix \u001b[38;5;129;01mand\u001b[39;00m \u001b[38;5;129;01mnot\u001b[39;00m rsuffix:\n\u001b[1;32m-> 2721\u001b[0m     \u001b[38;5;28;01mraise\u001b[39;00m \u001b[38;5;167;01mValueError\u001b[39;00m(\u001b[38;5;124mf\u001b[39m\u001b[38;5;124m\"\u001b[39m\u001b[38;5;124mcolumns overlap but no suffix specified: \u001b[39m\u001b[38;5;132;01m{\u001b[39;00mto_rename\u001b[38;5;132;01m}\u001b[39;00m\u001b[38;5;124m\"\u001b[39m)\n\u001b[0;32m   2723\u001b[0m \u001b[38;5;28;01mdef\u001b[39;00m \u001b[38;5;21mrenamer\u001b[39m(x, suffix: \u001b[38;5;28mstr\u001b[39m \u001b[38;5;241m|\u001b[39m \u001b[38;5;28;01mNone\u001b[39;00m):\n\u001b[0;32m   2724\u001b[0m \u001b[38;5;250m    \u001b[39m\u001b[38;5;124;03m\"\"\"\u001b[39;00m\n\u001b[0;32m   2725\u001b[0m \u001b[38;5;124;03m    Rename the left and right indices.\u001b[39;00m\n\u001b[0;32m   2726\u001b[0m \n\u001b[1;32m   (...)\u001b[0m\n\u001b[0;32m   2737\u001b[0m \u001b[38;5;124;03m    x : renamed column name\u001b[39;00m\n\u001b[0;32m   2738\u001b[0m \u001b[38;5;124;03m    \"\"\"\u001b[39;00m\n",
      "\u001b[1;31mValueError\u001b[0m: columns overlap but no suffix specified: Index(['End of Period', 'Credit Number', 'Region', 'Country / Economy Code',\n       'Country / Economy', 'Borrower', 'Credit Status', 'Service Charge Rate',\n       'Currency of Commitment', 'Project ID', 'Project Name',\n       'Original Principal Amount (US$)', 'Cancelled Amount (US$)',\n       'Undisbursed Amount (US$)', 'Disbursed Amount (US$)',\n       'Repaid to IDA (US$)', 'Due to IDA (US$)', 'Exchange Adjustment (US$)',\n       'Borrowers Obligation (US$)', 'Sold 3rd Party (US$)',\n       'Repaid 3rd Party (US$)', 'Due 3rd Party (US$)', 'Credits Held (US$)',\n       'First Repayment Date', 'Last Repayment Date', 'Agreement Signing Date',\n       'Board Approval Date', 'Effective Date (Most Recent)',\n       'Closed Date (Most Recent)', 'Last Disbursement Date'],\n      dtype='object')"
     ]
    }
   ],
   "source": [
    "df1.join(df2,how=\"outer\")"
   ]
  },
  {
   "cell_type": "code",
   "execution_count": 6,
   "metadata": {},
   "outputs": [
    {
     "ename": "KeyError",
     "evalue": "'key'",
     "output_type": "error",
     "traceback": [
      "\u001b[1;31m---------------------------------------------------------------------------\u001b[0m",
      "\u001b[1;31mKeyError\u001b[0m                                  Traceback (most recent call last)",
      "\u001b[1;32m~\\AppData\\Local\\Temp\\ipykernel_13456\\2770174253.py\u001b[0m in \u001b[0;36m?\u001b[1;34m()\u001b[0m\n\u001b[1;32m----> 1\u001b[1;33m \u001b[0mpd\u001b[0m\u001b[1;33m.\u001b[0m\u001b[0mmerge\u001b[0m\u001b[1;33m(\u001b[0m\u001b[0mdf1\u001b[0m\u001b[1;33m,\u001b[0m\u001b[0mdf2\u001b[0m\u001b[1;33m,\u001b[0m\u001b[0mon\u001b[0m\u001b[1;33m=\u001b[0m\u001b[1;34m\"key\"\u001b[0m\u001b[1;33m,\u001b[0m\u001b[0mhow\u001b[0m\u001b[1;33m=\u001b[0m\u001b[1;34m\"outer\"\u001b[0m\u001b[1;33m)\u001b[0m\u001b[1;33m\u001b[0m\u001b[1;33m\u001b[0m\u001b[0m\n\u001b[0m",
      "\u001b[1;32mc:\\Users\\bhara\\Documents\\code_space\\.venv\\Lib\\site-packages\\pandas\\core\\reshape\\merge.py\u001b[0m in \u001b[0;36m?\u001b[1;34m(left, right, how, on, left_on, right_on, left_index, right_index, sort, suffixes, copy, indicator, validate)\u001b[0m\n\u001b[0;32m    166\u001b[0m             \u001b[0mvalidate\u001b[0m\u001b[1;33m=\u001b[0m\u001b[0mvalidate\u001b[0m\u001b[1;33m,\u001b[0m\u001b[1;33m\u001b[0m\u001b[1;33m\u001b[0m\u001b[0m\n\u001b[0;32m    167\u001b[0m             \u001b[0mcopy\u001b[0m\u001b[1;33m=\u001b[0m\u001b[0mcopy\u001b[0m\u001b[1;33m,\u001b[0m\u001b[1;33m\u001b[0m\u001b[1;33m\u001b[0m\u001b[0m\n\u001b[0;32m    168\u001b[0m         \u001b[1;33m)\u001b[0m\u001b[1;33m\u001b[0m\u001b[1;33m\u001b[0m\u001b[0m\n\u001b[0;32m    169\u001b[0m     \u001b[1;32melse\u001b[0m\u001b[1;33m:\u001b[0m\u001b[1;33m\u001b[0m\u001b[1;33m\u001b[0m\u001b[0m\n\u001b[1;32m--> 170\u001b[1;33m         op = _MergeOperation(\n\u001b[0m\u001b[0;32m    171\u001b[0m             \u001b[0mleft_df\u001b[0m\u001b[1;33m,\u001b[0m\u001b[1;33m\u001b[0m\u001b[1;33m\u001b[0m\u001b[0m\n\u001b[0;32m    172\u001b[0m             \u001b[0mright_df\u001b[0m\u001b[1;33m,\u001b[0m\u001b[1;33m\u001b[0m\u001b[1;33m\u001b[0m\u001b[0m\n\u001b[0;32m    173\u001b[0m             \u001b[0mhow\u001b[0m\u001b[1;33m=\u001b[0m\u001b[0mhow\u001b[0m\u001b[1;33m,\u001b[0m\u001b[1;33m\u001b[0m\u001b[1;33m\u001b[0m\u001b[0m\n",
      "\u001b[1;32mc:\\Users\\bhara\\Documents\\code_space\\.venv\\Lib\\site-packages\\pandas\\core\\reshape\\merge.py\u001b[0m in \u001b[0;36m?\u001b[1;34m(self, left, right, how, on, left_on, right_on, left_index, right_index, sort, suffixes, indicator, validate)\u001b[0m\n\u001b[0;32m    790\u001b[0m             \u001b[0mself\u001b[0m\u001b[1;33m.\u001b[0m\u001b[0mright_join_keys\u001b[0m\u001b[1;33m,\u001b[0m\u001b[1;33m\u001b[0m\u001b[1;33m\u001b[0m\u001b[0m\n\u001b[0;32m    791\u001b[0m             \u001b[0mself\u001b[0m\u001b[1;33m.\u001b[0m\u001b[0mjoin_names\u001b[0m\u001b[1;33m,\u001b[0m\u001b[1;33m\u001b[0m\u001b[1;33m\u001b[0m\u001b[0m\n\u001b[0;32m    792\u001b[0m             \u001b[0mleft_drop\u001b[0m\u001b[1;33m,\u001b[0m\u001b[1;33m\u001b[0m\u001b[1;33m\u001b[0m\u001b[0m\n\u001b[0;32m    793\u001b[0m             \u001b[0mright_drop\u001b[0m\u001b[1;33m,\u001b[0m\u001b[1;33m\u001b[0m\u001b[1;33m\u001b[0m\u001b[0m\n\u001b[1;32m--> 794\u001b[1;33m         \u001b[1;33m)\u001b[0m \u001b[1;33m=\u001b[0m \u001b[0mself\u001b[0m\u001b[1;33m.\u001b[0m\u001b[0m_get_merge_keys\u001b[0m\u001b[1;33m(\u001b[0m\u001b[1;33m)\u001b[0m\u001b[1;33m\u001b[0m\u001b[1;33m\u001b[0m\u001b[0m\n\u001b[0m\u001b[0;32m    795\u001b[0m \u001b[1;33m\u001b[0m\u001b[0m\n\u001b[0;32m    796\u001b[0m         \u001b[1;32mif\u001b[0m \u001b[0mleft_drop\u001b[0m\u001b[1;33m:\u001b[0m\u001b[1;33m\u001b[0m\u001b[1;33m\u001b[0m\u001b[0m\n\u001b[0;32m    797\u001b[0m             \u001b[0mself\u001b[0m\u001b[1;33m.\u001b[0m\u001b[0mleft\u001b[0m \u001b[1;33m=\u001b[0m \u001b[0mself\u001b[0m\u001b[1;33m.\u001b[0m\u001b[0mleft\u001b[0m\u001b[1;33m.\u001b[0m\u001b[0m_drop_labels_or_levels\u001b[0m\u001b[1;33m(\u001b[0m\u001b[0mleft_drop\u001b[0m\u001b[1;33m)\u001b[0m\u001b[1;33m\u001b[0m\u001b[1;33m\u001b[0m\u001b[0m\n",
      "\u001b[1;32mc:\\Users\\bhara\\Documents\\code_space\\.venv\\Lib\\site-packages\\pandas\\core\\reshape\\merge.py\u001b[0m in \u001b[0;36m?\u001b[1;34m(self)\u001b[0m\n\u001b[0;32m   1293\u001b[0m                         \u001b[1;31m# Then we're either Hashable or a wrong-length arraylike,\u001b[0m\u001b[1;33m\u001b[0m\u001b[1;33m\u001b[0m\u001b[0m\n\u001b[0;32m   1294\u001b[0m                         \u001b[1;31m#  the latter of which will raise\u001b[0m\u001b[1;33m\u001b[0m\u001b[1;33m\u001b[0m\u001b[0m\n\u001b[0;32m   1295\u001b[0m                         \u001b[0mrk\u001b[0m \u001b[1;33m=\u001b[0m \u001b[0mcast\u001b[0m\u001b[1;33m(\u001b[0m\u001b[0mHashable\u001b[0m\u001b[1;33m,\u001b[0m \u001b[0mrk\u001b[0m\u001b[1;33m)\u001b[0m\u001b[1;33m\u001b[0m\u001b[1;33m\u001b[0m\u001b[0m\n\u001b[0;32m   1296\u001b[0m                         \u001b[1;32mif\u001b[0m \u001b[0mrk\u001b[0m \u001b[1;32mis\u001b[0m \u001b[1;32mnot\u001b[0m \u001b[1;32mNone\u001b[0m\u001b[1;33m:\u001b[0m\u001b[1;33m\u001b[0m\u001b[1;33m\u001b[0m\u001b[0m\n\u001b[1;32m-> 1297\u001b[1;33m                             \u001b[0mright_keys\u001b[0m\u001b[1;33m.\u001b[0m\u001b[0mappend\u001b[0m\u001b[1;33m(\u001b[0m\u001b[0mright\u001b[0m\u001b[1;33m.\u001b[0m\u001b[0m_get_label_or_level_values\u001b[0m\u001b[1;33m(\u001b[0m\u001b[0mrk\u001b[0m\u001b[1;33m)\u001b[0m\u001b[1;33m)\u001b[0m\u001b[1;33m\u001b[0m\u001b[1;33m\u001b[0m\u001b[0m\n\u001b[0m\u001b[0;32m   1298\u001b[0m                         \u001b[1;32melse\u001b[0m\u001b[1;33m:\u001b[0m\u001b[1;33m\u001b[0m\u001b[1;33m\u001b[0m\u001b[0m\n\u001b[0;32m   1299\u001b[0m                             \u001b[1;31m# work-around for merge_asof(right_index=True)\u001b[0m\u001b[1;33m\u001b[0m\u001b[1;33m\u001b[0m\u001b[0m\n\u001b[0;32m   1300\u001b[0m                             \u001b[0mright_keys\u001b[0m\u001b[1;33m.\u001b[0m\u001b[0mappend\u001b[0m\u001b[1;33m(\u001b[0m\u001b[0mright\u001b[0m\u001b[1;33m.\u001b[0m\u001b[0mindex\u001b[0m\u001b[1;33m.\u001b[0m\u001b[0m_values\u001b[0m\u001b[1;33m)\u001b[0m\u001b[1;33m\u001b[0m\u001b[1;33m\u001b[0m\u001b[0m\n",
      "\u001b[1;32mc:\\Users\\bhara\\Documents\\code_space\\.venv\\Lib\\site-packages\\pandas\\core\\generic.py\u001b[0m in \u001b[0;36m?\u001b[1;34m(self, key, axis)\u001b[0m\n\u001b[0;32m   1907\u001b[0m             \u001b[0mvalues\u001b[0m \u001b[1;33m=\u001b[0m \u001b[0mself\u001b[0m\u001b[1;33m.\u001b[0m\u001b[0mxs\u001b[0m\u001b[1;33m(\u001b[0m\u001b[0mkey\u001b[0m\u001b[1;33m,\u001b[0m \u001b[0maxis\u001b[0m\u001b[1;33m=\u001b[0m\u001b[0mother_axes\u001b[0m\u001b[1;33m[\u001b[0m\u001b[1;36m0\u001b[0m\u001b[1;33m]\u001b[0m\u001b[1;33m)\u001b[0m\u001b[1;33m.\u001b[0m\u001b[0m_values\u001b[0m\u001b[1;33m\u001b[0m\u001b[1;33m\u001b[0m\u001b[0m\n\u001b[0;32m   1908\u001b[0m         \u001b[1;32melif\u001b[0m \u001b[0mself\u001b[0m\u001b[1;33m.\u001b[0m\u001b[0m_is_level_reference\u001b[0m\u001b[1;33m(\u001b[0m\u001b[0mkey\u001b[0m\u001b[1;33m,\u001b[0m \u001b[0maxis\u001b[0m\u001b[1;33m=\u001b[0m\u001b[0maxis\u001b[0m\u001b[1;33m)\u001b[0m\u001b[1;33m:\u001b[0m\u001b[1;33m\u001b[0m\u001b[1;33m\u001b[0m\u001b[0m\n\u001b[0;32m   1909\u001b[0m             \u001b[0mvalues\u001b[0m \u001b[1;33m=\u001b[0m \u001b[0mself\u001b[0m\u001b[1;33m.\u001b[0m\u001b[0maxes\u001b[0m\u001b[1;33m[\u001b[0m\u001b[0maxis\u001b[0m\u001b[1;33m]\u001b[0m\u001b[1;33m.\u001b[0m\u001b[0mget_level_values\u001b[0m\u001b[1;33m(\u001b[0m\u001b[0mkey\u001b[0m\u001b[1;33m)\u001b[0m\u001b[1;33m.\u001b[0m\u001b[0m_values\u001b[0m\u001b[1;33m\u001b[0m\u001b[1;33m\u001b[0m\u001b[0m\n\u001b[0;32m   1910\u001b[0m         \u001b[1;32melse\u001b[0m\u001b[1;33m:\u001b[0m\u001b[1;33m\u001b[0m\u001b[1;33m\u001b[0m\u001b[0m\n\u001b[1;32m-> 1911\u001b[1;33m             \u001b[1;32mraise\u001b[0m \u001b[0mKeyError\u001b[0m\u001b[1;33m(\u001b[0m\u001b[0mkey\u001b[0m\u001b[1;33m)\u001b[0m\u001b[1;33m\u001b[0m\u001b[1;33m\u001b[0m\u001b[0m\n\u001b[0m\u001b[0;32m   1912\u001b[0m \u001b[1;33m\u001b[0m\u001b[0m\n\u001b[0;32m   1913\u001b[0m         \u001b[1;31m# Check for duplicates\u001b[0m\u001b[1;33m\u001b[0m\u001b[1;33m\u001b[0m\u001b[0m\n\u001b[0;32m   1914\u001b[0m         \u001b[1;32mif\u001b[0m \u001b[0mvalues\u001b[0m\u001b[1;33m.\u001b[0m\u001b[0mndim\u001b[0m \u001b[1;33m>\u001b[0m \u001b[1;36m1\u001b[0m\u001b[1;33m:\u001b[0m\u001b[1;33m\u001b[0m\u001b[1;33m\u001b[0m\u001b[0m\n",
      "\u001b[1;31mKeyError\u001b[0m: 'key'"
     ]
    }
   ],
   "source": [
    "pd.merge(df1,df2,on=\"key\",how=\"outer\")"
   ]
  },
  {
   "cell_type": "code",
   "execution_count": 27,
   "metadata": {},
   "outputs": [],
   "source": [
    "import numpy as np"
   ]
  },
  {
   "cell_type": "code",
   "execution_count": 29,
   "metadata": {},
   "outputs": [
    {
     "data": {
      "text/plain": [
       "array([1, 2, 3, 4, 5, 6])"
      ]
     },
     "execution_count": 29,
     "metadata": {},
     "output_type": "execute_result"
    }
   ],
   "source": [
    "np.array([[1,2,3],[4,5,6]]).flatten()"
   ]
  },
  {
   "cell_type": "code",
   "execution_count": 30,
   "metadata": {},
   "outputs": [
    {
     "data": {
      "text/plain": [
       "(2, 3)"
      ]
     },
     "execution_count": 30,
     "metadata": {},
     "output_type": "execute_result"
    }
   ],
   "source": [
    "np.array([[1,2,3],[4,5,6]]).shape"
   ]
  },
  {
   "cell_type": "code",
   "execution_count": 31,
   "metadata": {},
   "outputs": [
    {
     "data": {
      "text/plain": [
       "2"
      ]
     },
     "execution_count": 31,
     "metadata": {},
     "output_type": "execute_result"
    }
   ],
   "source": [
    "len(np.array([[1,2,3],[4,5,6]]))"
   ]
  },
  {
   "cell_type": "code",
   "execution_count": 33,
   "metadata": {},
   "outputs": [
    {
     "data": {
      "text/plain": [
       "c    3\n",
       "a    2\n",
       "b    1\n",
       "Name: count, dtype: int64"
      ]
     },
     "execution_count": 33,
     "metadata": {},
     "output_type": "execute_result"
    }
   ],
   "source": [
    "pd.Series([\"a\",\"a\",\"b\",\"c\",\"c\",\"c\"]).value_counts()"
   ]
  },
  {
   "cell_type": "code",
   "execution_count": null,
   "metadata": {},
   "outputs": [],
   "source": []
  }
 ],
 "metadata": {
  "kernelspec": {
   "display_name": ".venv",
   "language": "python",
   "name": "python3"
  },
  "language_info": {
   "codemirror_mode": {
    "name": "ipython",
    "version": 3
   },
   "file_extension": ".py",
   "mimetype": "text/x-python",
   "name": "python",
   "nbconvert_exporter": "python",
   "pygments_lexer": "ipython3",
   "version": "3.12.6"
  }
 },
 "nbformat": 4,
 "nbformat_minor": 2
}
