{
 "cells": [
  {
   "cell_type": "code",
   "execution_count": 1,
   "metadata": {},
   "outputs": [
    {
     "name": "stdout",
     "output_type": "stream",
     "text": [
      "abcd\n"
     ]
    }
   ],
   "source": [
    "text_str = \"abcabcdbb\"\n",
    "long_str = \"\"\n",
    "max_str = \"\"\n",
    "for i in range(len(text_str)):\n",
    "    long_str+=text_str[i]\n",
    "    for j in range(i+1,len(text_str)):\n",
    "        if text_str[j] not in long_str:\n",
    "            long_str+=text_str[j]\n",
    "        else:\n",
    "            break\n",
    "    if len(long_str)>len(max_str):\n",
    "        max_str = long_str\n",
    "    long_str = \"\"\n",
    "print(max_str)\n"
   ]
  },
  {
   "cell_type": "code",
   "execution_count": 1,
   "metadata": {},
   "outputs": [
    {
     "name": "stdout",
     "output_type": "stream",
     "text": [
      "abcd\n"
     ]
    }
   ],
   "source": [
    "def longest_non_repeating_substring(s):\n",
    "    # explain this function\n",
    "    start = 0\n",
    "    max_length = 0\n",
    "    used_chars = {}\n",
    "    max_substr = \"\"\n",
    "\n",
    "    for i, char in enumerate(s):\n",
    "        if char in used_chars and start <= used_chars[char]:\n",
    "            start = used_chars[char] + 1\n",
    "        else:\n",
    "            if i - start + 1 > max_length:\n",
    "                max_length = i - start + 1\n",
    "                max_substr = s[start:i+1]\n",
    "\n",
    "        used_chars[char] = i\n",
    "\n",
    "    return max_substr\n",
    "\n",
    "text_str = \"abcabcdbb\"\n",
    "print(longest_non_repeating_substring(text_str))"
   ]
  },
  {
   "cell_type": "code",
   "execution_count": null,
   "metadata": {},
   "outputs": [],
   "source": []
  },
  {
   "cell_type": "code",
   "execution_count": null,
   "metadata": {},
   "outputs": [],
   "source": []
  },
  {
   "cell_type": "code",
   "execution_count": 2,
   "metadata": {},
   "outputs": [],
   "source": [
    "text_str1 = \"()[]{}\"\n",
    "text_str1 = \"()[]{{\"\n",
    "text_str1 = \"()[]{\""
   ]
  },
  {
   "cell_type": "code",
   "execution_count": 3,
   "metadata": {},
   "outputs": [
    {
     "data": {
      "text/plain": [
       "'()[]{'"
      ]
     },
     "execution_count": 3,
     "metadata": {},
     "output_type": "execute_result"
    }
   ],
   "source": [
    "text_str1"
   ]
  },
  {
   "cell_type": "code",
   "execution_count": 4,
   "metadata": {},
   "outputs": [
    {
     "name": "stdout",
     "output_type": "stream",
     "text": [
      "not valid\n"
     ]
    }
   ],
   "source": [
    "if len(text_str1)%2!=0:\n",
    "    print(\"not valid\")\n",
    "else:\n",
    "    for i in range(0,len(text_str1),2):\n",
    "        if text_str1[i] == \"(\" and text_str1[i+1] == \")\":\n",
    "            print(\"valid\")\n",
    "        elif text_str1[i] == \"[\" and text_str1[i+1] == \"]\":\n",
    "            print(\"valid\")\n",
    "        elif text_str1[i] == \"{\" and text_str1[i+1] == \"}\":\n",
    "            print(\"valid\")\n",
    "        else:\n",
    "            print(\"not valid\")\n"
   ]
  },
  {
   "cell_type": "code",
   "execution_count": null,
   "metadata": {},
   "outputs": [],
   "source": []
  },
  {
   "cell_type": "code",
   "execution_count": null,
   "metadata": {},
   "outputs": [],
   "source": []
  }
 ],
 "metadata": {
  "kernelspec": {
   "display_name": ".venv",
   "language": "python",
   "name": "python3"
  },
  "language_info": {
   "codemirror_mode": {
    "name": "ipython",
    "version": 3
   },
   "file_extension": ".py",
   "mimetype": "text/x-python",
   "name": "python",
   "nbconvert_exporter": "python",
   "pygments_lexer": "ipython3",
   "version": "3.12.6"
  }
 },
 "nbformat": 4,
 "nbformat_minor": 2
}
