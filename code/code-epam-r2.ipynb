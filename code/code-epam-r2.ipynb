{
 "cells": [
  {
   "cell_type": "code",
   "execution_count": 16,
   "metadata": {},
   "outputs": [],
   "source": [
    "def bin_search(li,query):\n",
    "    sort_li = sorted(li)\n",
    "    len_li = len(li)\n",
    "    index_found = 0\n",
    "    while True:\n",
    "        if sort_li[len_li%2] == query:\n",
    "            index_found = len_li%2\n",
    "            return sort_li[len_li%2]\n",
    "            # print(\"value found\",sort_li[len_li%2])\n",
    "        elif query<sort_li[len_li%2]:\n",
    "            sort_li = sort_li[:len_li%2]\n",
    "        else:\n",
    "            sort_li = sort_li[len_li%2+1:]\n",
    "        if len(sort_li) == 1 and sort_li[0] == query:\n",
    "            return sort_li[0]\n",
    "            # print(\"value found\",sort_li[0])\n",
    "            # break\n",
    "        else:\n",
    "            print(\"value not found\")\n",
    "            return None"
   ]
  },
  {
   "cell_type": "code",
   "execution_count": null,
   "metadata": {},
   "outputs": [],
   "source": [
    "li = [0,1,5,9,15,21,31,40]\n",
    "query = 4\n",
    "while True:\n",
    "    res = bin_search(li,query)\n",
    "    if res == None:\n",
    "        query += 1\n",
    "        bin_search(li,query)\n",
    "    else:\n",
    "        print(\"value found\",res)"
   ]
  },
  {
   "cell_type": "code",
   "execution_count": null,
   "metadata": {},
   "outputs": [],
   "source": [
    "# li = [0,8,6,4,7,5]\n",
    "li = [0,1,5,9,15,21,31,40]\n",
    "query = 4\n",
    "sort_li = sorted(li)\n",
    "len_li = len(li)\n",
    "index_found = 0\n",
    "while True:\n",
    "    if sort_li[len_li%2] == query:\n",
    "        index_found = len_li%2\n",
    "        print(\"value found\",sort_li[len_li%2])\n",
    "        break\n",
    "    elif query<sort_li[len_li%2]:\n",
    "        sort_li = sort_li[:len_li%2]\n",
    "    else:\n",
    "        sort_li = sort_li[len_li%2+1:]\n",
    "    if len(sort_li) == 1 and sort_li[0] == query:\n",
    "        print(\"value found\",sort_li[0])\n",
    "        break\n",
    "    else:\n",
    "        print(\"value not found\")\n",
    "        query += 1\n",
    "        sort_li = sorted(li)\n",
    "    \n"
   ]
  },
  {
   "cell_type": "code",
   "execution_count": 18,
   "metadata": {},
   "outputs": [
    {
     "data": {
      "text/plain": [
       "[0, 0]"
      ]
     },
     "execution_count": 18,
     "metadata": {},
     "output_type": "execute_result"
    }
   ],
   "source": [
    "[0]*2"
   ]
  },
  {
   "cell_type": "code",
   "execution_count": 19,
   "metadata": {},
   "outputs": [],
   "source": [
    "li = [0,1,5,0,0,9,15,0,0,0,21,31,40]\n",
    "res_li = []\n",
    "num_zeros = 0\n",
    "for i in li:\n",
    "    if i == 0:\n",
    "        num_zeros += 1\n",
    "    elif i != 0:\n",
    "        res_li.append(i)\n",
    "res_li.extend([0]*num_zeros)"
   ]
  },
  {
   "cell_type": "code",
   "execution_count": 20,
   "metadata": {},
   "outputs": [
    {
     "data": {
      "text/plain": [
       "[1, 5, 9, 15, 21, 31, 40, 0, 0, 0, 0, 0, 0]"
      ]
     },
     "execution_count": 20,
     "metadata": {},
     "output_type": "execute_result"
    }
   ],
   "source": [
    "res_li"
   ]
  },
  {
   "cell_type": "code",
   "execution_count": null,
   "metadata": {},
   "outputs": [],
   "source": []
  },
  {
   "cell_type": "code",
   "execution_count": null,
   "metadata": {},
   "outputs": [],
   "source": []
  }
 ],
 "metadata": {
  "kernelspec": {
   "display_name": ".venv",
   "language": "python",
   "name": "python3"
  },
  "language_info": {
   "codemirror_mode": {
    "name": "ipython",
    "version": 3
   },
   "file_extension": ".py",
   "mimetype": "text/x-python",
   "name": "python",
   "nbconvert_exporter": "python",
   "pygments_lexer": "ipython3",
   "version": "3.12.6"
  }
 },
 "nbformat": 4,
 "nbformat_minor": 2
}
