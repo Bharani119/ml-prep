{
 "cells": [
  {
   "cell_type": "code",
   "execution_count": 11,
   "metadata": {},
   "outputs": [
    {
     "name": "stdout",
     "output_type": "stream",
     "text": [
      "not correct\n"
     ]
    }
   ],
   "source": [
    "str1 = \"some[and[]kjbddfkj[djbvkdfjv]\"\n",
    "check_str = \"\"\n",
    "for i in str1:\n",
    "    # print(i)\n",
    "    if i ==\"[\":\n",
    "        check_str+=\"[\"\n",
    "    elif i == \"]\":\n",
    "        check_str+=\"]\"\n",
    "    if len(check_str)==2 and check_str!=\"[]\":\n",
    "        print(\"not correct\")\n",
    "        break\n",
    "    elif len(check_str)==2 and check_str==\"[]\":\n",
    "        print(\"correct\")\n",
    "        check_str = \"\"\n"
   ]
  },
  {
   "cell_type": "code",
   "execution_count": 3,
   "metadata": {},
   "outputs": [
    {
     "data": {
      "text/plain": [
       "''"
      ]
     },
     "execution_count": 3,
     "metadata": {},
     "output_type": "execute_result"
    }
   ],
   "source": [
    "check_str"
   ]
  },
  {
   "cell_type": "code",
   "execution_count": 15,
   "metadata": {},
   "outputs": [
    {
     "name": "stdout",
     "output_type": "stream",
     "text": [
      "['[', ']', '[', ']']\n"
     ]
    }
   ],
   "source": [
    "import re\n",
    "\n",
    "# text = \"This is a sample text with some (parentheses) and (more parentheses).\"\n",
    "text = \"This is a sample text with some [square brackets] and [more square brackets].\"\n",
    "# Find all parentheses characters\n",
    "# parentheses = re.findall(r'[()]', text)\n",
    "square_brackets = re.findall(r'[\\[\\]]', text)\n",
    "\n",
    "# print(parentheses)\n",
    "print(square_brackets)"
   ]
  },
  {
   "cell_type": "code",
   "execution_count": null,
   "metadata": {},
   "outputs": [],
   "source": []
  }
 ],
 "metadata": {
  "kernelspec": {
   "display_name": ".venv",
   "language": "python",
   "name": "python3"
  },
  "language_info": {
   "codemirror_mode": {
    "name": "ipython",
    "version": 3
   },
   "file_extension": ".py",
   "mimetype": "text/x-python",
   "name": "python",
   "nbconvert_exporter": "python",
   "pygments_lexer": "ipython3",
   "version": "3.12.6"
  }
 },
 "nbformat": 4,
 "nbformat_minor": 2
}
